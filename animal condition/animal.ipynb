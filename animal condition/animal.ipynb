{
 "cells": [
  {
   "cell_type": "code",
   "execution_count": 933,
   "id": "75c288c1",
   "metadata": {},
   "outputs": [],
   "source": [
    "import numpy as np\n",
    "import pandas as pd"
   ]
  },
  {
   "cell_type": "code",
   "execution_count": 934,
   "id": "976a98cd",
   "metadata": {},
   "outputs": [],
   "source": [
    "df=pd.read_csv(\"data.csv\")"
   ]
  },
  {
   "cell_type": "code",
   "execution_count": 935,
   "id": "17a8a0c9",
   "metadata": {},
   "outputs": [
    {
     "data": {
      "text/html": [
       "<div>\n",
       "<style scoped>\n",
       "    .dataframe tbody tr th:only-of-type {\n",
       "        vertical-align: middle;\n",
       "    }\n",
       "\n",
       "    .dataframe tbody tr th {\n",
       "        vertical-align: top;\n",
       "    }\n",
       "\n",
       "    .dataframe thead th {\n",
       "        text-align: right;\n",
       "    }\n",
       "</style>\n",
       "<table border=\"1\" class=\"dataframe\">\n",
       "  <thead>\n",
       "    <tr style=\"text-align: right;\">\n",
       "      <th></th>\n",
       "      <th>AnimalName</th>\n",
       "      <th>symptoms1</th>\n",
       "      <th>symptoms2</th>\n",
       "      <th>symptoms3</th>\n",
       "      <th>symptoms4</th>\n",
       "      <th>symptoms5</th>\n",
       "      <th>Dangerous</th>\n",
       "    </tr>\n",
       "  </thead>\n",
       "  <tbody>\n",
       "    <tr>\n",
       "      <th>0</th>\n",
       "      <td>Dog</td>\n",
       "      <td>Fever</td>\n",
       "      <td>Diarrhea</td>\n",
       "      <td>Vomiting</td>\n",
       "      <td>Weight loss</td>\n",
       "      <td>Dehydration</td>\n",
       "      <td>Yes</td>\n",
       "    </tr>\n",
       "    <tr>\n",
       "      <th>1</th>\n",
       "      <td>Dog</td>\n",
       "      <td>Fever</td>\n",
       "      <td>Diarrhea</td>\n",
       "      <td>Coughing</td>\n",
       "      <td>Tiredness</td>\n",
       "      <td>Pains</td>\n",
       "      <td>Yes</td>\n",
       "    </tr>\n",
       "    <tr>\n",
       "      <th>2</th>\n",
       "      <td>Dog</td>\n",
       "      <td>Fever</td>\n",
       "      <td>Diarrhea</td>\n",
       "      <td>Coughing</td>\n",
       "      <td>Vomiting</td>\n",
       "      <td>Anorexia</td>\n",
       "      <td>Yes</td>\n",
       "    </tr>\n",
       "    <tr>\n",
       "      <th>3</th>\n",
       "      <td>Dog</td>\n",
       "      <td>Fever</td>\n",
       "      <td>Difficulty breathing</td>\n",
       "      <td>Coughing</td>\n",
       "      <td>Lethargy</td>\n",
       "      <td>Sneezing</td>\n",
       "      <td>Yes</td>\n",
       "    </tr>\n",
       "    <tr>\n",
       "      <th>4</th>\n",
       "      <td>Dog</td>\n",
       "      <td>Fever</td>\n",
       "      <td>Diarrhea</td>\n",
       "      <td>Coughing</td>\n",
       "      <td>Lethargy</td>\n",
       "      <td>Blue Eye</td>\n",
       "      <td>Yes</td>\n",
       "    </tr>\n",
       "  </tbody>\n",
       "</table>\n",
       "</div>"
      ],
      "text/plain": [
       "  AnimalName symptoms1             symptoms2 symptoms3    symptoms4  \\\n",
       "0        Dog     Fever              Diarrhea  Vomiting  Weight loss   \n",
       "1        Dog     Fever              Diarrhea  Coughing    Tiredness   \n",
       "2        Dog     Fever              Diarrhea  Coughing     Vomiting   \n",
       "3        Dog     Fever  Difficulty breathing  Coughing     Lethargy   \n",
       "4        Dog     Fever              Diarrhea  Coughing     Lethargy   \n",
       "\n",
       "     symptoms5 Dangerous  \n",
       "0  Dehydration       Yes  \n",
       "1        Pains       Yes  \n",
       "2     Anorexia       Yes  \n",
       "3     Sneezing       Yes  \n",
       "4     Blue Eye       Yes  "
      ]
     },
     "execution_count": 935,
     "metadata": {},
     "output_type": "execute_result"
    }
   ],
   "source": [
    "df.head()"
   ]
  },
  {
   "cell_type": "code",
   "execution_count": 936,
   "id": "6cab0150",
   "metadata": {},
   "outputs": [],
   "source": [
    "df.rename(columns={'Dangerous':'condition_is_critical'},inplace=True)"
   ]
  },
  {
   "cell_type": "code",
   "execution_count": 937,
   "id": "edfbbed7",
   "metadata": {},
   "outputs": [],
   "source": [
    "df.drop(columns=['AnimalName'],inplace=True)"
   ]
  },
  {
   "cell_type": "code",
   "execution_count": 938,
   "id": "b632f2b8",
   "metadata": {},
   "outputs": [
    {
     "data": {
      "text/plain": [
       "(871, 6)"
      ]
     },
     "execution_count": 938,
     "metadata": {},
     "output_type": "execute_result"
    }
   ],
   "source": [
    "df.shape"
   ]
  },
  {
   "cell_type": "code",
   "execution_count": 939,
   "id": "0ad53d52",
   "metadata": {},
   "outputs": [
    {
     "data": {
      "text/plain": [
       "symptoms1                0\n",
       "symptoms2                0\n",
       "symptoms3                0\n",
       "symptoms4                0\n",
       "symptoms5                0\n",
       "condition_is_critical    2\n",
       "dtype: int64"
      ]
     },
     "execution_count": 939,
     "metadata": {},
     "output_type": "execute_result"
    }
   ],
   "source": [
    "df.isnull().sum()"
   ]
  },
  {
   "cell_type": "code",
   "execution_count": 940,
   "id": "c4a26734",
   "metadata": {},
   "outputs": [],
   "source": [
    "df.dropna(axis=0,inplace=True)"
   ]
  },
  {
   "cell_type": "code",
   "execution_count": 941,
   "id": "afc8e763",
   "metadata": {},
   "outputs": [
    {
     "data": {
      "text/plain": [
       "symptoms1                0\n",
       "symptoms2                0\n",
       "symptoms3                0\n",
       "symptoms4                0\n",
       "symptoms5                0\n",
       "condition_is_critical    0\n",
       "dtype: int64"
      ]
     },
     "execution_count": 941,
     "metadata": {},
     "output_type": "execute_result"
    }
   ],
   "source": [
    "df.isnull().sum()"
   ]
  },
  {
   "cell_type": "code",
   "execution_count": 942,
   "id": "742238e5",
   "metadata": {},
   "outputs": [
    {
     "data": {
      "text/html": [
       "<div>\n",
       "<style scoped>\n",
       "    .dataframe tbody tr th:only-of-type {\n",
       "        vertical-align: middle;\n",
       "    }\n",
       "\n",
       "    .dataframe tbody tr th {\n",
       "        vertical-align: top;\n",
       "    }\n",
       "\n",
       "    .dataframe thead th {\n",
       "        text-align: right;\n",
       "    }\n",
       "</style>\n",
       "<table border=\"1\" class=\"dataframe\">\n",
       "  <thead>\n",
       "    <tr style=\"text-align: right;\">\n",
       "      <th></th>\n",
       "      <th>symptoms1</th>\n",
       "      <th>symptoms2</th>\n",
       "      <th>symptoms3</th>\n",
       "      <th>symptoms4</th>\n",
       "      <th>symptoms5</th>\n",
       "      <th>condition_is_critical</th>\n",
       "    </tr>\n",
       "  </thead>\n",
       "  <tbody>\n",
       "    <tr>\n",
       "      <th>402</th>\n",
       "      <td>wasting</td>\n",
       "      <td>stumbling</td>\n",
       "      <td>listlessness</td>\n",
       "      <td>drooling</td>\n",
       "      <td>urination problem</td>\n",
       "      <td>Yes</td>\n",
       "    </tr>\n",
       "    <tr>\n",
       "      <th>403</th>\n",
       "      <td>wasting</td>\n",
       "      <td>stumbling</td>\n",
       "      <td>listlessness</td>\n",
       "      <td>drooling</td>\n",
       "      <td>urination problem</td>\n",
       "      <td>Yes</td>\n",
       "    </tr>\n",
       "    <tr>\n",
       "      <th>404</th>\n",
       "      <td>wasting</td>\n",
       "      <td>stumbling</td>\n",
       "      <td>listlessness</td>\n",
       "      <td>drooling</td>\n",
       "      <td>urination problem</td>\n",
       "      <td>Yes</td>\n",
       "    </tr>\n",
       "    <tr>\n",
       "      <th>405</th>\n",
       "      <td>wasting</td>\n",
       "      <td>stumbling</td>\n",
       "      <td>listlessness</td>\n",
       "      <td>drooling</td>\n",
       "      <td>urination problem</td>\n",
       "      <td>Yes</td>\n",
       "    </tr>\n",
       "    <tr>\n",
       "      <th>406</th>\n",
       "      <td>wasting</td>\n",
       "      <td>stumbling</td>\n",
       "      <td>listlessness</td>\n",
       "      <td>drooling</td>\n",
       "      <td>urination problem</td>\n",
       "      <td>Yes</td>\n",
       "    </tr>\n",
       "    <tr>\n",
       "      <th>...</th>\n",
       "      <td>...</td>\n",
       "      <td>...</td>\n",
       "      <td>...</td>\n",
       "      <td>...</td>\n",
       "      <td>...</td>\n",
       "      <td>...</td>\n",
       "    </tr>\n",
       "    <tr>\n",
       "      <th>845</th>\n",
       "      <td>swelling</td>\n",
       "      <td>nasal discharge</td>\n",
       "      <td>drooling</td>\n",
       "      <td>tiredness</td>\n",
       "      <td>fever</td>\n",
       "      <td>Yes</td>\n",
       "    </tr>\n",
       "    <tr>\n",
       "      <th>846</th>\n",
       "      <td>eye discharges</td>\n",
       "      <td>nasal discharge</td>\n",
       "      <td>change their normal behaviour</td>\n",
       "      <td>high body temperature</td>\n",
       "      <td>lameness</td>\n",
       "      <td>Yes</td>\n",
       "    </tr>\n",
       "    <tr>\n",
       "      <th>847</th>\n",
       "      <td>stop eating</td>\n",
       "      <td>stop drinking</td>\n",
       "      <td>change their normal behaviour</td>\n",
       "      <td>Lameness</td>\n",
       "      <td>Pains</td>\n",
       "      <td>Yes</td>\n",
       "    </tr>\n",
       "    <tr>\n",
       "      <th>848</th>\n",
       "      <td>stop eating</td>\n",
       "      <td>stop drinking</td>\n",
       "      <td>change their normal behaviour</td>\n",
       "      <td>Weight loss</td>\n",
       "      <td>Pains</td>\n",
       "      <td>Yes</td>\n",
       "    </tr>\n",
       "    <tr>\n",
       "      <th>849</th>\n",
       "      <td>stop eating</td>\n",
       "      <td>stop drinking</td>\n",
       "      <td>change their normal behaviour</td>\n",
       "      <td>Depression</td>\n",
       "      <td>Pains</td>\n",
       "      <td>Yes</td>\n",
       "    </tr>\n",
       "  </tbody>\n",
       "</table>\n",
       "<p>430 rows × 6 columns</p>\n",
       "</div>"
      ],
      "text/plain": [
       "          symptoms1        symptoms2                      symptoms3  \\\n",
       "402         wasting        stumbling                   listlessness   \n",
       "403         wasting        stumbling                   listlessness   \n",
       "404         wasting        stumbling                   listlessness   \n",
       "405         wasting        stumbling                   listlessness   \n",
       "406         wasting        stumbling                   listlessness   \n",
       "..              ...              ...                            ...   \n",
       "845        swelling  nasal discharge                       drooling   \n",
       "846  eye discharges  nasal discharge  change their normal behaviour   \n",
       "847     stop eating    stop drinking  change their normal behaviour   \n",
       "848     stop eating    stop drinking  change their normal behaviour   \n",
       "849     stop eating    stop drinking  change their normal behaviour   \n",
       "\n",
       "                 symptoms4          symptoms5 condition_is_critical  \n",
       "402               drooling  urination problem                   Yes  \n",
       "403               drooling  urination problem                   Yes  \n",
       "404               drooling  urination problem                   Yes  \n",
       "405               drooling  urination problem                   Yes  \n",
       "406               drooling  urination problem                   Yes  \n",
       "..                     ...                ...                   ...  \n",
       "845              tiredness              fever                   Yes  \n",
       "846  high body temperature           lameness                   Yes  \n",
       "847               Lameness              Pains                   Yes  \n",
       "848            Weight loss              Pains                   Yes  \n",
       "849             Depression              Pains                   Yes  \n",
       "\n",
       "[430 rows x 6 columns]"
      ]
     },
     "execution_count": 942,
     "metadata": {},
     "output_type": "execute_result"
    }
   ],
   "source": [
    "df[df.duplicated()]"
   ]
  },
  {
   "cell_type": "code",
   "execution_count": 943,
   "id": "90abe803",
   "metadata": {},
   "outputs": [],
   "source": [
    "df.drop_duplicates(keep='first',inplace=True)"
   ]
  },
  {
   "cell_type": "code",
   "execution_count": 944,
   "id": "e63c4d6f",
   "metadata": {},
   "outputs": [
    {
     "data": {
      "text/html": [
       "<div>\n",
       "<style scoped>\n",
       "    .dataframe tbody tr th:only-of-type {\n",
       "        vertical-align: middle;\n",
       "    }\n",
       "\n",
       "    .dataframe tbody tr th {\n",
       "        vertical-align: top;\n",
       "    }\n",
       "\n",
       "    .dataframe thead th {\n",
       "        text-align: right;\n",
       "    }\n",
       "</style>\n",
       "<table border=\"1\" class=\"dataframe\">\n",
       "  <thead>\n",
       "    <tr style=\"text-align: right;\">\n",
       "      <th></th>\n",
       "      <th>symptoms1</th>\n",
       "      <th>symptoms2</th>\n",
       "      <th>symptoms3</th>\n",
       "      <th>symptoms4</th>\n",
       "      <th>symptoms5</th>\n",
       "      <th>condition_is_critical</th>\n",
       "    </tr>\n",
       "  </thead>\n",
       "  <tbody>\n",
       "  </tbody>\n",
       "</table>\n",
       "</div>"
      ],
      "text/plain": [
       "Empty DataFrame\n",
       "Columns: [symptoms1, symptoms2, symptoms3, symptoms4, symptoms5, condition_is_critical]\n",
       "Index: []"
      ]
     },
     "execution_count": 944,
     "metadata": {},
     "output_type": "execute_result"
    }
   ],
   "source": [
    "df[df.duplicated()]"
   ]
  },
  {
   "cell_type": "code",
   "execution_count": 945,
   "id": "39d4052a",
   "metadata": {},
   "outputs": [
    {
     "data": {
      "text/plain": [
       "(439, 6)"
      ]
     },
     "execution_count": 945,
     "metadata": {},
     "output_type": "execute_result"
    }
   ],
   "source": [
    "df.shape"
   ]
  },
  {
   "cell_type": "code",
   "execution_count": 946,
   "id": "6f8e6509",
   "metadata": {},
   "outputs": [],
   "source": [
    "\n",
    "from sklearn.preprocessing import LabelEncoder\n",
    "from sklearn.model_selection import train_test_split\n",
    "from sklearn.ensemble import AdaBoostClassifier"
   ]
  },
  {
   "cell_type": "code",
   "execution_count": 947,
   "id": "d9f2f273",
   "metadata": {},
   "outputs": [],
   "source": [
    "X=df.drop(columns=['condition_is_critical'])"
   ]
  },
  {
   "cell_type": "code",
   "execution_count": 948,
   "id": "a740a583",
   "metadata": {},
   "outputs": [],
   "source": [
    "y=df['condition_is_critical']"
   ]
  },
  {
   "cell_type": "code",
   "execution_count": 949,
   "id": "38548b79",
   "metadata": {},
   "outputs": [],
   "source": [
    "le=LabelEncoder()\n",
    "for col in X.columns:\n",
    "    X[col]=le.fit_transform(X[col])\n",
    "y=le.fit_transform(y)"
   ]
  },
  {
   "cell_type": "code",
   "execution_count": 950,
   "id": "e3d3bed7",
   "metadata": {},
   "outputs": [],
   "source": [
    "X_train,X_test,y_trian,y_test=train_test_split(X,y,test_size=0.2)"
   ]
  },
  {
   "cell_type": "code",
   "execution_count": 951,
   "id": "20e4ffa9",
   "metadata": {},
   "outputs": [],
   "source": [
    "ada=AdaBoostClassifier()\n",
    "model=ada.fit(X_train,y_trian)"
   ]
  },
  {
   "cell_type": "code",
   "execution_count": 952,
   "id": "48e909b8",
   "metadata": {},
   "outputs": [],
   "source": [
    "y_pred=model.predict(X_test)"
   ]
  },
  {
   "cell_type": "code",
   "execution_count": 953,
   "id": "5d12ebbd",
   "metadata": {},
   "outputs": [],
   "source": [
    "from sklearn.metrics import accuracy_score,confusion_matrix\n",
    "accuracy=accuracy_score(y_test,y_pred)"
   ]
  },
  {
   "cell_type": "code",
   "execution_count": 954,
   "id": "551ff338",
   "metadata": {},
   "outputs": [
    {
     "name": "stdout",
     "output_type": "stream",
     "text": [
      "accuracy: 95.0 %\n"
     ]
    }
   ],
   "source": [
    "print('accuracy:',round(accuracy,2)*100,'%')"
   ]
  },
  {
   "cell_type": "code",
   "execution_count": 955,
   "id": "387593d1",
   "metadata": {},
   "outputs": [],
   "source": [
    "import matplotlib.pyplot as plt"
   ]
  },
  {
   "cell_type": "code",
   "execution_count": 956,
   "id": "c191168c",
   "metadata": {},
   "outputs": [
    {
     "data": {
      "image/png": "[encoded data removed]",
      "text/plain": [
       "<Figure size 640x480 with 1 Axes>"
      ]
     },
     "metadata": {},
     "output_type": "display_data"
    }
   ],
   "source": [
    "plt.Figure(figsize=(10,10))\n",
    "plt.plot(y_test[:50], label='actual',marker='x')\n",
    "plt.plot(y_pred[:50], label='predicted',marker='o')\n",
    "plt.title('actual vs predicted')\n",
    "plt.xlabel('simptomps')\n",
    "plt.ylabel('condition')\n",
    "plt.legend()\n",
    "plt.grid(True)\n",
    "plt.show()"
   ]
  },
  {
   "cell_type": "code",
   "execution_count": 957,
   "id": "f65809d7",
   "metadata": {},
   "outputs": [],
   "source": [
    "import seaborn as sns\n"
   ]
  },
  {
   "cell_type": "code",
   "execution_count": 958,
   "id": "f425b626",
   "metadata": {},
   "outputs": [
    {
     "data": {
      "image/png": "[encoded data removed]",
      "text/plain": [
       "<Figure size 640x480 with 2 Axes>"
      ]
     },
     "metadata": {},
     "output_type": "display_data"
    }
   ],
   "source": [
    "cm=confusion_matrix(y_test,y_pred)\n",
    "sns.heatmap(cm,annot=True,fmt='d',cmap='Blues')\n",
    "plt.title('confusion matrix')\n",
    "plt.xlabel('predicted')\n",
    "plt.ylabel('actual')\n",
    "plt.show()\n"
   ]
  }
 ],
 "metadata": {
  "kernelspec": {
   "display_name": "Python 3",
   "language": "python",
   "name": "python3"
  },
  "language_info": {
   "codemirror_mode": {
    "name": "ipython",
    "version": 3
   },
   "file_extension": ".py",
   "mimetype": "text/x-python",
   "name": "python",
   "nbconvert_exporter": "python",
   "pygments_lexer": "ipython3",
   "version": "3.10.11"
  }
 },
 "nbformat": 4,
 "nbformat_minor": 5
}
